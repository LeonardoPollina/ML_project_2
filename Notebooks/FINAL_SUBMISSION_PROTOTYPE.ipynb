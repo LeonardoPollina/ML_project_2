{
 "cells": [
  {
   "cell_type": "markdown",
   "metadata": {},
   "source": [
    "# Training example of the final model\n",
    "\n",
    "In this notebook, we illustrate the training procedure applied to train the <b>final model</b>. \n",
    "\n",
    "* This notebook does <b>NOT</b> reproduce the score on CrowdAI.\n",
    "This happens because here we want to show the procedure to select the best model that we used. In order to select the best model we haven't trained the model on the whole dataset, but we have decided to split the data in <b>80/20% train/validation set</b>. What it is shown in the notebook is exactly this, applied on our best model. However, to obtain the final weights, we have trained again the same model on the whole dataset. Moreover, we have also applied a post-processing to the obtained prediction.\n",
    "\n",
    "* This model has <b>2 neurons</b> in the final layer.\n",
    "The only difference between the training of a model with only one neuron at the final layer is that here we cannot rely on our implementation of the F1-score when we choose the `metrics` in `model.compile`. <br>\n",
    "Hence, to perform a validation, we need to split manually the data at the very beginning and compute the F1-score in the local validation set only once the training has been finished."
   ]
  },
  {
   "cell_type": "markdown",
   "metadata": {},
   "source": [
    "## Import"
   ]
  },
  {
   "cell_type": "code",
   "execution_count": null,
   "metadata": {},
   "outputs": [],
   "source": [
    "import sys\n",
    "sys.path.insert(0,'../src/')\n",
    "sys.path.insert(0,'../src/models/')\n",
    "from training_and_prediction import *\n",
    "from utilities import *"
   ]
  },
  {
   "cell_type": "markdown",
   "metadata": {},
   "source": [
    "## Config:  choose the model and the root directory"
   ]
  },
  {
   "cell_type": "code",
   "execution_count": null,
   "metadata": {},
   "outputs": [],
   "source": [
    "from model_PROTOTYPE_2_neurons import MODEL_CLASS\n",
    "ROOT_DIR = '../Data/'"
   ]
  },
  {
   "cell_type": "markdown",
   "metadata": {},
   "source": [
    "## Obtain the model class and print some infos"
   ]
  },
  {
   "cell_type": "code",
   "execution_count": null,
   "metadata": {},
   "outputs": [],
   "source": [
    "MODEL = MODEL_CLASS()\n",
    "MODEL.summary()"
   ]
  },
  {
   "cell_type": "markdown",
   "metadata": {},
   "source": [
    "# Training (80/20 train/validation)"
   ]
  },
  {
   "cell_type": "code",
   "execution_count": null,
   "metadata": {
    "scrolled": true
   },
   "outputs": [],
   "source": [
    "X, Y = LoadImages(root_dir = ROOT_DIR)\n",
    "ValidationRatio = 0.8\n",
    "idx_tr, idx_val = get_idx_split_data(X.shape[0], ValidationRatio)"
   ]
  },
  {
   "cell_type": "code",
   "execution_count": null,
   "metadata": {},
   "outputs": [],
   "source": [
    "X_tr, Y_tr = X[idx_tr], Y[idx_tr]\n",
    "model = train(X_tr, Y_tr, MODEL)"
   ]
  },
  {
   "cell_type": "markdown",
   "metadata": {},
   "source": [
    "# After the training, compute F1 score on the validation"
   ]
  },
  {
   "cell_type": "code",
   "execution_count": null,
   "metadata": {},
   "outputs": [],
   "source": [
    "X_val, Y_val = X[idx_val], Y[idx_val]\n",
    "ComputeLocalF1Score(X_val,Y_val,MODEL, MODEL.NameWeights)"
   ]
  },
  {
   "cell_type": "markdown",
   "metadata": {},
   "source": [
    "# Submission"
   ]
  },
  {
   "cell_type": "code",
   "execution_count": null,
   "metadata": {},
   "outputs": [],
   "source": [
    "PredictAndSubmit(MODEL, MODEL.NameWeights, MODEL.SubmissionName, MODEL.PredictionName, root_dir = ROOT_DIR)"
   ]
  },
  {
   "cell_type": "markdown",
   "metadata": {},
   "source": [
    "# We can continue with the training in this way"
   ]
  },
  {
   "cell_type": "code",
   "execution_count": null,
   "metadata": {},
   "outputs": [],
   "source": [
    "nameOldWeights = MODEL.NameWeights\n",
    "nameNewWeights = MODEL.NameWeights + '_cont'\n",
    "model = ContinueTrain(X_tr, Y_tr, MODEL, nameOldWeights, nameNewWeights, epochs_cont = 1)"
   ]
  }
 ],
 "metadata": {
  "kernelspec": {
   "display_name": "Python 3",
   "language": "python",
   "name": "python3"
  },
  "language_info": {
   "codemirror_mode": {
    "name": "ipython",
    "version": 3
   },
   "file_extension": ".py",
   "mimetype": "text/x-python",
   "name": "python",
   "nbconvert_exporter": "python",
   "pygments_lexer": "ipython3",
   "version": "3.6.5"
  }
 },
 "nbformat": 4,
 "nbformat_minor": 2
}
