{
 "cells": [
  {
   "cell_type": "markdown",
   "metadata": {},
   "source": [
    "# Training example (2 final layer units)\n",
    "\n",
    "In this notebook, we illustrate the training routine applied to train a model with <b>2 neurons</b> in the final layer.\n",
    "<br>\n",
    "<br>\n",
    "The only difference between the training of a model with only one neuron at the final layer is that we cannot rely on our implementation of the F1 score when we choose the `metrics` in `model.compile`. <br>\n",
    "Hence, to use validation, we need to split the data at the very beginning and compute the F1 score in the local set only once the training is finished."
   ]
  },
  {
   "cell_type": "code",
   "execution_count": 1,
   "metadata": {},
   "outputs": [
    {
     "name": "stderr",
     "output_type": "stream",
     "text": [
      "C:\\Users\\nicol\\Anaconda3\\lib\\site-packages\\h5py\\__init__.py:36: FutureWarning: Conversion of the second argument of issubdtype from `float` to `np.floating` is deprecated. In future, it will be treated as `np.float64 == np.dtype(float).type`.\n",
      "  from ._conv import register_converters as _register_converters\n",
      "Using TensorFlow backend.\n"
     ]
    }
   ],
   "source": [
    "import sys\n",
    "sys.path.insert(0,'../src/')\n",
    "sys.path.insert(0,'../src/models/')\n",
    "from training_and_prediction import *\n",
    "from utilities import *"
   ]
  },
  {
   "cell_type": "markdown",
   "metadata": {},
   "source": [
    "# Choose the model and print its informations\n",
    "\n",
    "You can choose also the root directory, the one with the data."
   ]
  },
  {
   "cell_type": "code",
   "execution_count": 2,
   "metadata": {},
   "outputs": [
    {
     "name": "stdout",
     "output_type": "stream",
     "text": [
      "Model attributes:\n",
      "\tpatch_size =  16\n",
      "\tinput_size =  20\n",
      "\tpad_size =  2\n",
      "\tpad_rotate_size =  16\n",
      "\tfinal_layer_units =  2\n",
      "\tpool_size =  (2, 2)\n",
      "\n",
      "Training parameters:\n",
      "\treg =  1e-05\n",
      "\tlearning_rate =  0.001\n",
      "\tepochs =  5\n",
      "\tbatch_size =  128\n",
      "\tsteps_per_epoch =  10\n",
      "\n",
      "Oher attributes:\n",
      "\tNameWeights =  prototype_2_neurons_Weights\n",
      "\tSubmissionName =  prototype_2_neurons_Submission.csv\n",
      "\tPredictionName =  prototype_2_neurons_prediction\n",
      "\n",
      " Keras model summary\n",
      "_________________________________________________________________\n",
      "Layer (type)                 Output Shape              Param #   \n",
      "=================================================================\n",
      "conv2d_1 (Conv2D)            (None, 20, 20, 3)         84        \n",
      "_________________________________________________________________\n",
      "flatten_1 (Flatten)          (None, 1200)              0         \n",
      "_________________________________________________________________\n",
      "dense_1 (Dense)              (None, 10)                12010     \n",
      "_________________________________________________________________\n",
      "dropout_1 (Dropout)          (None, 10)                0         \n",
      "_________________________________________________________________\n",
      "dense_2 (Dense)              (None, 2)                 22        \n",
      "=================================================================\n",
      "Total params: 12,116\n",
      "Trainable params: 12,116\n",
      "Non-trainable params: 0\n",
      "_________________________________________________________________\n"
     ]
    }
   ],
   "source": [
    "from model_PROTOTYPE_2_neurons import MODEL_CLASS\n",
    "MODEL = MODEL_CLASS()\n",
    "MODEL.summary()\n",
    "\n",
    "ROOT_DIR = '../Data/'"
   ]
  },
  {
   "cell_type": "markdown",
   "metadata": {},
   "source": [
    "# Training (80/20 train/validation)"
   ]
  },
  {
   "cell_type": "code",
   "execution_count": 3,
   "metadata": {
    "scrolled": true
   },
   "outputs": [
    {
     "name": "stdout",
     "output_type": "stream",
     "text": [
      "Loading 100 images\n",
      "Loading 100 groundtruth images\n",
      "Padding images using pad of:  16\n",
      "Shape of imgs:  (100, 432, 432, 3)\n",
      "Shape of gt_imgs:  (100, 432, 432, 3)\n"
     ]
    }
   ],
   "source": [
    "X, Y = LoadImages(MODEL.pad_rotate_size, root_dir = ROOT_DIR)\n",
    "idx_tr, idx_val = get_idx_split_data(X.shape[0],0.8)\n",
    "X_tr, Y_tr = X[idx_tr], Y[idx_tr]"
   ]
  },
  {
   "cell_type": "code",
   "execution_count": 4,
   "metadata": {},
   "outputs": [
    {
     "name": "stdout",
     "output_type": "stream",
     "text": [
      "Training the model.\n",
      "Training images shape:  (80, 432, 432, 3)\n",
      "Epochs: 5\n",
      "Batch_size: 128\n",
      "Steps per epoch: 10\n",
      "No validation data.\n",
      "Epoch 1/5\n",
      "10/10 [==============================] - 2s 213ms/step - loss: 0.6702 - acc: 0.6703\n",
      "Epoch 2/5\n",
      "10/10 [==============================] - 2s 199ms/step - loss: 0.6307 - acc: 0.7555\n",
      "Epoch 3/5\n",
      "10/10 [==============================] - 2s 226ms/step - loss: 0.6258 - acc: 0.7359\n",
      "Epoch 4/5\n",
      "10/10 [==============================] - 2s 169ms/step - loss: 0.6077 - acc: 0.7453\n",
      "Epoch 5/5\n",
      "10/10 [==============================] - 2s 172ms/step - loss: 0.6049 - acc: 0.7461\n",
      "Training done, weights saved in: prototype_2_neurons_Weights\n"
     ]
    }
   ],
   "source": [
    "model = train(X_tr, Y_tr, MODEL)"
   ]
  },
  {
   "cell_type": "markdown",
   "metadata": {},
   "source": [
    "# After the training, compute F1 score on the validation"
   ]
  },
  {
   "cell_type": "code",
   "execution_count": 5,
   "metadata": {},
   "outputs": [
    {
     "name": "stdout",
     "output_type": "stream",
     "text": [
      "Number of validation images:  19\n",
      "Predicting... \n",
      "Done!\n",
      "F1 score on validation set is: 0.0\n"
     ]
    },
    {
     "name": "stderr",
     "output_type": "stream",
     "text": [
      "C:\\Users\\nicol\\Anaconda3\\lib\\site-packages\\sklearn\\metrics\\classification.py:1135: UndefinedMetricWarning: F-score is ill-defined and being set to 0.0 due to no predicted samples.\n",
      "  'precision', 'predicted', average, warn_for)\n"
     ]
    }
   ],
   "source": [
    "X, Y = LoadImages(0, verbose = 0, root_dir = ROOT_DIR)\n",
    "X_val, Y_val = X[idx_val], Y[idx_val]\n",
    "ComputeLocalF1Score(X_val,Y_val,MODEL, MODEL.NameWeights)"
   ]
  },
  {
   "cell_type": "markdown",
   "metadata": {},
   "source": [
    "# Submission"
   ]
  },
  {
   "cell_type": "code",
   "execution_count": 6,
   "metadata": {},
   "outputs": [
    {
     "name": "stdout",
     "output_type": "stream",
     "text": [
      "Loading test images\n",
      "Inputs for the test are ready. Shape:  (72200, 20, 20, 3)\n",
      "Load the weights of the model from:  prototype_2_neurons_Weights\n",
      "Predicting...\n",
      "Done!\n",
      "Generating submission and prediction (pickle) file...\n",
      "Submission saved in:  prototype_2_neurons_Submission.csv\n",
      "Prediction saved in  prototype_2_neurons_prediction\n"
     ]
    }
   ],
   "source": [
    "PredictAndSubmit(MODEL, MODEL.NameWeights, MODEL.SubmissionName, MODEL.PredictionName, root_dir = ROOT_DIR)"
   ]
  },
  {
   "cell_type": "markdown",
   "metadata": {},
   "source": [
    "# We can continue with the training in this way"
   ]
  },
  {
   "cell_type": "code",
   "execution_count": 7,
   "metadata": {},
   "outputs": [
    {
     "name": "stdout",
     "output_type": "stream",
     "text": [
      "Loading weights of the model from:  prototype_2_neurons_Weights\n",
      "Restarting training...\n",
      "Training images shape:  (80, 432, 432, 3)\n",
      "Epochs: 5\n",
      "Batch_size: 128\n",
      "Steps per epoch: 10\n",
      "No validation data.\n",
      "Epoch 1/3\n",
      "10/10 [==============================] - 1s 145ms/step - loss: 0.6005 - acc: 0.7438\n",
      "Epoch 2/3\n",
      "10/10 [==============================] - 1s 137ms/step - loss: 0.5938 - acc: 0.7430\n",
      "Epoch 3/3\n",
      "10/10 [==============================] - 2s 155ms/step - loss: 0.5807 - acc: 0.7516\n",
      "Training done, weights saved in: prototype_2_neurons_Weights_cont\n"
     ]
    }
   ],
   "source": [
    "nameOldWeights = MODEL.NameWeights\n",
    "nameNewWeights = MODEL.NameWeights + '_cont'\n",
    "model = ContinueTrain(X_tr, Y_tr, MODEL, nameOldWeights, nameNewWeights, epochs_cont = 3)"
   ]
  }
 ],
 "metadata": {
  "kernelspec": {
   "display_name": "Python 3",
   "language": "python",
   "name": "python3"
  },
  "language_info": {
   "codemirror_mode": {
    "name": "ipython",
    "version": 3
   },
   "file_extension": ".py",
   "mimetype": "text/x-python",
   "name": "python",
   "nbconvert_exporter": "python",
   "pygments_lexer": "ipython3",
   "version": "3.6.5"
  }
 },
 "nbformat": 4,
 "nbformat_minor": 2
}
