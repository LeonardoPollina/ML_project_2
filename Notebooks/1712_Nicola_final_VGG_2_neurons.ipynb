{
 "cells": [
  {
   "cell_type": "markdown",
   "metadata": {},
   "source": [
    "# Training example (2 final layer units)\n",
    "\n",
    "In this notebook, we illustrate the training routine applied to train a model with <b>2 neurons</b> in the final layer.\n",
    "<br>\n",
    "<br>\n",
    "The only difference between the training of a model with only one neuron at the final layer is that we cannot rely on our implementation of the F1 score when we choose the `metrics` in `model.compile`. <br>\n",
    "Hence, to use validation, we need to split the data at the very beginning and compute the F1 score in the local set only once the training is finished."
   ]
  },
  {
   "cell_type": "code",
   "execution_count": null,
   "metadata": {},
   "outputs": [],
   "source": [
    "import sys\n",
    "sys.path.insert(0,'../src/')\n",
    "sys.path.insert(0,'../src/models/')\n",
    "from training_and_prediction import *\n",
    "from utilities import *"
   ]
  },
  {
   "cell_type": "markdown",
   "metadata": {},
   "source": [
    "# Choose the model and print its informations\n",
    "\n",
    "You can choose also the root directory, the one with the data."
   ]
  },
  {
   "cell_type": "code",
   "execution_count": null,
   "metadata": {},
   "outputs": [],
   "source": [
    "from model_vgg_2_neurons_class import MODEL_CLASS\n",
    "MODEL = MODEL_CLASS()\n",
    "MODEL.summary()\n",
    "\n",
    "ROOT_DIR = '../Data/'"
   ]
  },
  {
   "cell_type": "markdown",
   "metadata": {},
   "source": [
    "# Training (80/20 train/validation)"
   ]
  },
  {
   "cell_type": "code",
   "execution_count": null,
   "metadata": {
    "scrolled": true
   },
   "outputs": [],
   "source": [
    "X, Y = LoadImages(MODEL.pad_rotate_size, root_dir = ROOT_DIR)\n",
    "\n",
    "idx_tr, idx_val = get_idx_split_data(X.shape[0],1)\n",
    "X_tr, Y_tr = X[idx_tr], Y[idx_tr]"
   ]
  },
  {
   "cell_type": "code",
   "execution_count": null,
   "metadata": {},
   "outputs": [],
   "source": [
    "model = train(X_tr, Y_tr, MODEL)"
   ]
  },
  {
   "cell_type": "markdown",
   "metadata": {},
   "source": [
    "# After the training, compute F1 score on the validation"
   ]
  },
  {
   "cell_type": "code",
   "execution_count": null,
   "metadata": {},
   "outputs": [],
   "source": [
    "X, Y = LoadImages(0, verbose = 0, root_dir = ROOT_DIR)\n",
    "\n",
    "\n",
    "idx_tr, idx_val = get_idx_split_data(X.shape[0],0.8)\n",
    "X_val, Y_val = X[idx_val], Y[idx_val]\n",
    "\n",
    "\n",
    "ComputeLocalF1Score(X_val,Y_val,MODEL, MODEL.NameWeights)"
   ]
  },
  {
   "cell_type": "markdown",
   "metadata": {},
   "source": [
    "# Submission"
   ]
  },
  {
   "cell_type": "code",
   "execution_count": null,
   "metadata": {},
   "outputs": [],
   "source": [
    "PredictAndSubmit(MODEL, MODEL.NameWeights, MODEL.SubmissionName, MODEL.PredictionName, root_dir = ROOT_DIR)"
   ]
  }
 ],
 "metadata": {
  "kernelspec": {
   "display_name": "Python 3",
   "language": "python",
   "name": "python3"
  },
  "language_info": {
   "codemirror_mode": {
    "name": "ipython",
    "version": 3
   },
   "file_extension": ".py",
   "mimetype": "text/x-python",
   "name": "python",
   "nbconvert_exporter": "python",
   "pygments_lexer": "ipython3",
   "version": "3.6.5"
  }
 },
 "nbformat": 4,
 "nbformat_minor": 2
}
