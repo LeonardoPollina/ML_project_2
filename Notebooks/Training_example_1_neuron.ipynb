{
 "cells": [
  {
   "cell_type": "markdown",
   "metadata": {},
   "source": [
    "# Training example of a model with 1 neuron in the final layer\n",
    "\n",
    "In this notebook, we illustrate the training routine applied to train a model with <b>1 neurons</b> in the final layer.\n",
    "\n",
    "* This was not our best model, with this notebook we only would like to illustrate our procedure to evaluate the goodness of a model with only one unit in the final layer.\n",
    "\n",
    "* The only difference between the training of a model with 2 neurons at the final layer is that here we can rely on our implementation of the F1-score when we choose the <code>metrics</code> in <code>model.compile</code>. \n",
    "Hence, to perform a validation, we can simply pass as an argument the validation ratio to the <code>train</code> function."
   ]
  },
  {
   "cell_type": "markdown",
   "metadata": {},
   "source": [
    "## Import"
   ]
  },
  {
   "cell_type": "code",
   "execution_count": 1,
   "metadata": {},
   "outputs": [
    {
     "name": "stderr",
     "output_type": "stream",
     "text": [
      "C:\\Users\\nicol\\Anaconda3\\lib\\site-packages\\h5py\\__init__.py:36: FutureWarning: Conversion of the second argument of issubdtype from `float` to `np.floating` is deprecated. In future, it will be treated as `np.float64 == np.dtype(float).type`.\n",
      "  from ._conv import register_converters as _register_converters\n",
      "Using TensorFlow backend.\n"
     ]
    }
   ],
   "source": [
    "import sys\n",
    "sys.path.insert(0,'../src/')\n",
    "sys.path.insert(0,'../src/models/')\n",
    "from training_and_prediction import *\n",
    "from utilities import *"
   ]
  },
  {
   "cell_type": "markdown",
   "metadata": {},
   "source": [
    "## Config:  choose the model and the root directory"
   ]
  },
  {
   "cell_type": "code",
   "execution_count": 2,
   "metadata": {},
   "outputs": [],
   "source": [
    "from model_vgg_1_neuron import MODEL_CLASS\n",
    "\n",
    "ROOT_DIR = '../Data/'"
   ]
  },
  {
   "cell_type": "markdown",
   "metadata": {},
   "source": [
    "## Obtain the model class and print some infos"
   ]
  },
  {
   "cell_type": "code",
   "execution_count": 3,
   "metadata": {},
   "outputs": [
    {
     "name": "stdout",
     "output_type": "stream",
     "text": [
      "Main model attributes:\n",
      "\tpatch_size =  16\n",
      "\tinput_size =  64\n",
      "\tpad_size =  24\n",
      "\tpad_rotate_size =  24\n",
      "\tfinal_layer_units =  1\n",
      "\tpool_size =  (2, 2)\n",
      "\n",
      "Training parameters:\n",
      "\tlearning_rate =  0.001\n",
      "\tepochs =  40\n",
      "\tbatch_size =  128\n",
      "\tsteps_per_epoch =  250\n",
      "\n",
      "Other attributes:\n",
      "\tNameWeights =  model_vgg_1_neuron_weights\n",
      "\tSubmissionName =  model_vgg_1_neuron_submission.csv\n",
      "\tPredictionName =  model_vgg_1_neuron_prediction\n",
      "\n",
      "VGG-like model with only one neuron in the final layer.\n",
      "Keras model summary\n",
      "_________________________________________________________________\n",
      "Layer (type)                 Output Shape              Param #   \n",
      "=================================================================\n",
      "conv2d_1 (Conv2D)            (None, 64, 64, 32)        896       \n",
      "_________________________________________________________________\n",
      "conv2d_2 (Conv2D)            (None, 64, 64, 32)        9248      \n",
      "_________________________________________________________________\n",
      "max_pooling2d_1 (MaxPooling2 (None, 32, 32, 32)        0         \n",
      "_________________________________________________________________\n",
      "conv2d_3 (Conv2D)            (None, 32, 32, 64)        18496     \n",
      "_________________________________________________________________\n",
      "conv2d_4 (Conv2D)            (None, 32, 32, 64)        36928     \n",
      "_________________________________________________________________\n",
      "max_pooling2d_2 (MaxPooling2 (None, 16, 16, 64)        0         \n",
      "_________________________________________________________________\n",
      "conv2d_5 (Conv2D)            (None, 16, 16, 128)       73856     \n",
      "_________________________________________________________________\n",
      "conv2d_6 (Conv2D)            (None, 16, 16, 128)       147584    \n",
      "_________________________________________________________________\n",
      "conv2d_7 (Conv2D)            (None, 16, 16, 128)       147584    \n",
      "_________________________________________________________________\n",
      "max_pooling2d_3 (MaxPooling2 (None, 8, 8, 128)         0         \n",
      "_________________________________________________________________\n",
      "flatten_1 (Flatten)          (None, 8192)              0         \n",
      "_________________________________________________________________\n",
      "dense_1 (Dense)              (None, 1024)              8389632   \n",
      "_________________________________________________________________\n",
      "dropout_1 (Dropout)          (None, 1024)              0         \n",
      "_________________________________________________________________\n",
      "dense_2 (Dense)              (None, 512)               524800    \n",
      "_________________________________________________________________\n",
      "dropout_2 (Dropout)          (None, 512)               0         \n",
      "_________________________________________________________________\n",
      "dense_3 (Dense)              (None, 1)                 513       \n",
      "=================================================================\n",
      "Total params: 9,349,537\n",
      "Trainable params: 9,349,537\n",
      "Non-trainable params: 0\n",
      "_________________________________________________________________\n"
     ]
    }
   ],
   "source": [
    "MODEL = MODEL_CLASS()\n",
    "MODEL.summary()"
   ]
  },
  {
   "cell_type": "markdown",
   "metadata": {},
   "source": [
    "# Training (80/20 train/validation)"
   ]
  },
  {
   "cell_type": "code",
   "execution_count": 4,
   "metadata": {
    "scrolled": true
   },
   "outputs": [
    {
     "name": "stdout",
     "output_type": "stream",
     "text": [
      "Loading 100 images\n",
      "Loading 100 groundtruth images\n",
      "Shape of imgs:  (100, 400, 400, 3)\n",
      "Shape of gt_imgs:  (100, 400, 400)\n"
     ]
    }
   ],
   "source": [
    "X, Y = LoadImages(root_dir = ROOT_DIR)\n",
    "ValidationRatio = 0.8"
   ]
  },
  {
   "cell_type": "code",
   "execution_count": 5,
   "metadata": {},
   "outputs": [
    {
     "name": "stdout",
     "output_type": "stream",
     "text": [
      "Padding images using pad of:  24\n",
      "Training the model.\n",
      "Validation ratio:  0.8\n",
      "Training (padded) images shape:  (80, 448, 448, 3)\n",
      "Validation (padded) images shape:  (20, 448, 448, 3)\n",
      "Epochs: 40\n",
      "Batch_size: 128\n",
      "Steps per epoch: 250\n",
      "\n",
      "\n",
      "Epoch 1/40\n",
      "250/250 [==============================] - 895s 4s/step - loss: 0.5151 - acc: 0.7416 - f1_score: 0.0461 - val_loss: 0.4740 - val_acc: 0.7266 - val_f1_score: 0.1315\n",
      "Epoch 2/40\n",
      "250/250 [==============================] - 893s 4s/step - loss: 0.3994 - acc: 0.8069 - f1_score: 0.5537 - val_loss: 0.3769 - val_acc: 0.8047 - val_f1_score: 0.5853\n",
      "Epoch 3/40\n",
      "250/250 [==============================] - 882s 4s/step - loss: 0.2915 - acc: 0.8714 - f1_score: 0.7361 - val_loss: 0.3939 - val_acc: 0.8219 - val_f1_score: 0.6609\n",
      "Epoch 4/40\n",
      "250/250 [==============================] - 888s 4s/step - loss: 0.2420 - acc: 0.8971 - f1_score: 0.7919 - val_loss: 0.3693 - val_acc: 0.8516 - val_f1_score: 0.6993\n",
      "Epoch 5/40\n",
      "250/250 [==============================] - 882s 4s/step - loss: 0.2096 - acc: 0.9137 - f1_score: 0.8230 - val_loss: 0.2699 - val_acc: 0.8719 - val_f1_score: 0.7350\n",
      "Epoch 6/40\n",
      "250/250 [==============================] - 884s 4s/step - loss: 0.1863 - acc: 0.9230 - f1_score: 0.8437 - val_loss: 0.3486 - val_acc: 0.8422 - val_f1_score: 0.7078\n",
      "Epoch 7/40\n",
      "250/250 [==============================] - 883s 4s/step - loss: 0.1758 - acc: 0.9260 - f1_score: 0.8514 - val_loss: 0.3350 - val_acc: 0.8750 - val_f1_score: 0.7540\n",
      "Epoch 8/40\n",
      "250/250 [==============================] - 885s 4s/step - loss: 0.1620 - acc: 0.9319 - f1_score: 0.8655 - val_loss: 0.3272 - val_acc: 0.8516 - val_f1_score: 0.7114\n",
      "Epoch 9/40\n",
      "250/250 [==============================] - 883s 4s/step - loss: 0.1540 - acc: 0.9370 - f1_score: 0.8722 - val_loss: 0.2911 - val_acc: 0.8859 - val_f1_score: 0.7614\n",
      "Epoch 10/40\n",
      "250/250 [==============================] - 874s 3s/step - loss: 0.1448 - acc: 0.9413 - f1_score: 0.8834 - val_loss: 0.3082 - val_acc: 0.8891 - val_f1_score: 0.7493\n",
      "Epoch 11/40\n",
      "250/250 [==============================] - 878s 4s/step - loss: 0.1421 - acc: 0.9422 - f1_score: 0.8855 - val_loss: 0.2699 - val_acc: 0.8906 - val_f1_score: 0.7770\n",
      "Epoch 12/40\n",
      "250/250 [==============================] - 874s 3s/step - loss: 0.1328 - acc: 0.9466 - f1_score: 0.8946 - val_loss: 0.2583 - val_acc: 0.8781 - val_f1_score: 0.7741\n",
      "Epoch 13/40\n",
      "250/250 [==============================] - 877s 4s/step - loss: 0.1279 - acc: 0.9483 - f1_score: 0.8953 - val_loss: 0.3057 - val_acc: 0.8734 - val_f1_score: 0.6671\n",
      "Epoch 14/40\n",
      "250/250 [==============================] - 872s 3s/step - loss: 0.1185 - acc: 0.9527 - f1_score: 0.9071 - val_loss: 0.2584 - val_acc: 0.8953 - val_f1_score: 0.7713\n",
      "Epoch 15/40\n",
      "250/250 [==============================] - 870s 3s/step - loss: 0.1186 - acc: 0.9512 - f1_score: 0.9032 - val_loss: 0.2852 - val_acc: 0.8766 - val_f1_score: 0.7193\n",
      "Epoch 16/40\n",
      "250/250 [==============================] - 892s 4s/step - loss: 0.1107 - acc: 0.9552 - f1_score: 0.9120 - val_loss: 0.2534 - val_acc: 0.8969 - val_f1_score: 0.7704\n",
      "Epoch 17/40\n",
      "250/250 [==============================] - 886s 4s/step - loss: 0.1064 - acc: 0.9573 - f1_score: 0.9158 - val_loss: 0.2825 - val_acc: 0.8875 - val_f1_score: 0.7713\n",
      "Epoch 18/40\n",
      "250/250 [==============================] - 871s 3s/step - loss: 0.1041 - acc: 0.9579 - f1_score: 0.9161 - val_loss: 0.3050 - val_acc: 0.8734 - val_f1_score: 0.7185\n",
      "Epoch 19/40\n",
      "250/250 [==============================] - 873s 3s/step - loss: 0.1070 - acc: 0.9576 - f1_score: 0.9158 - val_loss: 0.3920 - val_acc: 0.8906 - val_f1_score: 0.7608\n",
      "Epoch 20/40\n",
      "250/250 [==============================] - 879s 4s/step - loss: 0.1021 - acc: 0.9596 - f1_score: 0.9199 - val_loss: 0.3171 - val_acc: 0.8922 - val_f1_score: 0.7669\n",
      "Epoch 21/40\n",
      "250/250 [==============================] - 875s 4s/step - loss: 0.0993 - acc: 0.9584 - f1_score: 0.9180 - val_loss: 0.3830 - val_acc: 0.8953 - val_f1_score: 0.7425\n",
      "Epoch 22/40\n",
      "250/250 [==============================] - 872s 3s/step - loss: 0.0952 - acc: 0.9604 - f1_score: 0.9229 - val_loss: 0.3494 - val_acc: 0.8953 - val_f1_score: 0.7707\n",
      "Epoch 23/40\n",
      "250/250 [==============================] - 870s 3s/step - loss: 0.1001 - acc: 0.9594 - f1_score: 0.9210 - val_loss: 0.4154 - val_acc: 0.8766 - val_f1_score: 0.7301\n",
      "Epoch 24/40\n",
      "250/250 [==============================] - 870s 3s/step - loss: 0.0950 - acc: 0.9620 - f1_score: 0.9254 - val_loss: 0.2920 - val_acc: 0.8938 - val_f1_score: 0.7931\n",
      "Epoch 25/40\n",
      "250/250 [==============================] - 872s 3s/step - loss: 0.0904 - acc: 0.9627 - f1_score: 0.9254 - val_loss: 0.3059 - val_acc: 0.8875 - val_f1_score: 0.7758\n",
      "Epoch 26/40\n",
      "250/250 [==============================] - 868s 3s/step - loss: 0.0921 - acc: 0.9619 - f1_score: 0.9240 - val_loss: 0.3749 - val_acc: 0.8875 - val_f1_score: 0.7579\n",
      "Epoch 27/40\n",
      "250/250 [==============================] - 870s 3s/step - loss: 0.0853 - acc: 0.9663 - f1_score: 0.9320 - val_loss: 0.3657 - val_acc: 0.8781 - val_f1_score: 0.7801\n",
      "Epoch 28/40\n",
      "250/250 [==============================] - 870s 3s/step - loss: 0.0922 - acc: 0.9643 - f1_score: 0.9286 - val_loss: 0.3265 - val_acc: 0.8953 - val_f1_score: 0.7426\n",
      "Epoch 29/40\n",
      "250/250 [==============================] - 875s 4s/step - loss: 0.0876 - acc: 0.9637 - f1_score: 0.9281 - val_loss: 0.3506 - val_acc: 0.8797 - val_f1_score: 0.7396\n",
      "Epoch 30/40\n",
      "250/250 [==============================] - 870s 3s/step - loss: 0.0867 - acc: 0.9659 - f1_score: 0.9324 - val_loss: 0.3798 - val_acc: 0.8844 - val_f1_score: 0.7512\n",
      "Epoch 31/40\n",
      "250/250 [==============================] - 870s 3s/step - loss: 0.0889 - acc: 0.9657 - f1_score: 0.9325 - val_loss: 0.4114 - val_acc: 0.8938 - val_f1_score: 0.7568\n",
      "Epoch 32/40\n",
      "250/250 [==============================] - 869s 3s/step - loss: 0.0793 - acc: 0.9679 - f1_score: 0.9368 - val_loss: 0.3430 - val_acc: 0.9047 - val_f1_score: 0.8104\n",
      "Epoch 33/40\n",
      "250/250 [==============================] - 875s 3s/step - loss: 0.0759 - acc: 0.9709 - f1_score: 0.9433 - val_loss: 0.5432 - val_acc: 0.8844 - val_f1_score: 0.7459\n",
      "Epoch 34/40\n",
      "250/250 [==============================] - 869s 3s/step - loss: 0.0806 - acc: 0.9680 - f1_score: 0.9360 - val_loss: 0.3493 - val_acc: 0.8750 - val_f1_score: 0.7454\n",
      "Epoch 35/40\n",
      "250/250 [==============================] - 880s 4s/step - loss: 0.0806 - acc: 0.9679 - f1_score: 0.9363 - val_loss: 0.2802 - val_acc: 0.9156 - val_f1_score: 0.8127\n",
      "Epoch 36/40\n",
      "250/250 [==============================] - 875s 3s/step - loss: 0.0720 - acc: 0.9715 - f1_score: 0.9425 - val_loss: 0.4560 - val_acc: 0.8891 - val_f1_score: 0.7661\n",
      "Epoch 37/40\n",
      "250/250 [==============================] - 882s 4s/step - loss: 0.0755 - acc: 0.9703 - f1_score: 0.9418 - val_loss: 0.4925 - val_acc: 0.8688 - val_f1_score: 0.6869\n",
      "Epoch 38/40\n",
      "250/250 [==============================] - 887s 4s/step - loss: 0.0762 - acc: 0.9698 - f1_score: 0.9396 - val_loss: 0.3909 - val_acc: 0.8844 - val_f1_score: 0.7696\n",
      "Epoch 39/40\n",
      "250/250 [==============================] - 880s 4s/step - loss: 0.0747 - acc: 0.9710 - f1_score: 0.9421 - val_loss: 0.3650 - val_acc: 0.9016 - val_f1_score: 0.7773\n",
      "Epoch 40/40\n",
      "250/250 [==============================] - 880s 4s/step - loss: 0.0721 - acc: 0.9715 - f1_score: 0.9452 - val_loss: 0.3329 - val_acc: 0.9125 - val_f1_score: 0.8029\n",
      "Training done, weights saved in: model_vgg_1_neuron_weights\n"
     ]
    }
   ],
   "source": [
    "model = train(X, Y, MODEL, validation_ratio = ValidationRatio)"
   ]
  },
  {
   "cell_type": "markdown",
   "metadata": {},
   "source": [
    "# Submission"
   ]
  },
  {
   "cell_type": "code",
   "execution_count": 6,
   "metadata": {},
   "outputs": [
    {
     "name": "stdout",
     "output_type": "stream",
     "text": [
      "Loading test images\n",
      "Inputs for the test are ready. Shape:  (72200, 64, 64, 3)\n",
      "Load the weights of the model from:  model_vgg_1_neuron_weights\n",
      "Predicting...\n",
      "Done!\n",
      "Generating submission and prediction (pickle) file...\n",
      "Submission saved in:  model_vgg_1_neuron_submission.csv\n",
      "Prediction saved in  model_vgg_1_neuron_prediction\n"
     ]
    }
   ],
   "source": [
    "PredictAndSubmit(MODEL, MODEL.NameWeights, MODEL.SubmissionName, MODEL.PredictionName, root_dir = ROOT_DIR)"
   ]
  },
  {
   "cell_type": "markdown",
   "metadata": {},
   "source": [
    "# We can continue with the training in this way"
   ]
  },
  {
   "cell_type": "code",
   "execution_count": 7,
   "metadata": {},
   "outputs": [
    {
     "name": "stdout",
     "output_type": "stream",
     "text": [
      "Padding images using pad of:  24\n",
      "Loading weights of the model from:  model_vgg_1_neuron_weights\n",
      "Restarting training...\n",
      "Validation ratio:  0.8\n",
      "Training (padded) images shape:  (80, 448, 448, 3)\n",
      "Validation (padded) images shape:  (20, 448, 448, 3)\n",
      "Epochs: 40\n",
      "Batch_size: 128\n",
      "Steps per epoch: 250\n",
      "\n",
      "\n",
      "Epoch 1/1\n",
      "250/250 [==============================] - 15087s 60s/step - loss: 0.0752 - acc: 0.9705 - f1_score: 0.9418 - val_loss: 0.2310 - val_acc: 0.9219 - val_f1_score: 0.8177\n",
      "Training done, weights saved in: model_vgg_1_neuron_weights_cont\n"
     ]
    }
   ],
   "source": [
    "nameOldWeights = MODEL.NameWeights\n",
    "nameNewWeights = MODEL.NameWeights + '_cont'\n",
    "model = ContinueTrain(X, Y, MODEL, nameOldWeights, nameNewWeights, validation_ratio = ValidationRatio, epochs_cont = 1)"
   ]
  }
 ],
 "metadata": {
  "kernelspec": {
   "display_name": "Python 3",
   "language": "python",
   "name": "python3"
  },
  "language_info": {
   "codemirror_mode": {
    "name": "ipython",
    "version": 3
   },
   "file_extension": ".py",
   "mimetype": "text/x-python",
   "name": "python",
   "nbconvert_exporter": "python",
   "pygments_lexer": "ipython3",
   "version": "3.6.5"
  }
 },
 "nbformat": 4,
 "nbformat_minor": 2
}
