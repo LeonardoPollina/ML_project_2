{
 "cells": [
  {
   "cell_type": "markdown",
   "metadata": {},
   "source": [
    "# Post processing example"
   ]
  },
  {
   "cell_type": "code",
   "execution_count": 1,
   "metadata": {
    "scrolled": false
   },
   "outputs": [
    {
     "ename": "SyntaxError",
     "evalue": "invalid syntax (utilities.py, line 452)",
     "output_type": "error",
     "traceback": [
      "Traceback \u001b[0;36m(most recent call last)\u001b[0m:\n",
      "  File \u001b[1;32m\"/anaconda3/lib/python3.6/site-packages/IPython/core/interactiveshell.py\"\u001b[0m, line \u001b[1;32m2963\u001b[0m, in \u001b[1;35mrun_code\u001b[0m\n    exec(code_obj, self.user_global_ns, self.user_ns)\n",
      "\u001b[0;36m  File \u001b[0;32m\"<ipython-input-1-e853afc040a2>\"\u001b[0;36m, line \u001b[0;32m5\u001b[0;36m, in \u001b[0;35m<module>\u001b[0;36m\u001b[0m\n\u001b[0;31m    from utilities import *\u001b[0m\n",
      "\u001b[0;36m  File \u001b[0;32m\"../../src/utilities.py\"\u001b[0;36m, line \u001b[0;32m452\u001b[0m\n\u001b[0;31m    -           if((nbr_labels_foreground_nghb >= T) and not(addstreet)):\u001b[0m\n\u001b[0m                 ^\u001b[0m\n\u001b[0;31mSyntaxError\u001b[0m\u001b[0;31m:\u001b[0m invalid syntax\n"
     ]
    }
   ],
   "source": [
    "import sys\n",
    "sys.path.insert(0,'../../src')\n",
    "sys.path.insert(0,'../../src/models')\n",
    "ROOT_DIR = '../../Data/'\n",
    "from utilities import *  "
   ]
  },
  {
   "cell_type": "markdown",
   "metadata": {},
   "source": [
    "# Select the model where the prediction come from, and the prediction name"
   ]
  },
  {
   "cell_type": "code",
   "execution_count": null,
   "metadata": {},
   "outputs": [],
   "source": [
    "from model_vgg_no_data_augmentation import MODEL_CLASS\n",
    "\n",
    "MODEL = MODEL_CLASS()\n",
    "MODEL.summary()\n",
    "\n",
    "PredictionName = MODEL.PredictionName"
   ]
  },
  {
   "cell_type": "markdown",
   "metadata": {},
   "source": [
    "# Visualize post-processing"
   ]
  },
  {
   "cell_type": "code",
   "execution_count": null,
   "metadata": {},
   "outputs": [],
   "source": [
    "#load images and pad them\n",
    "test_images = pick_test_images(root = ROOT_DIR)"
   ]
  },
  {
   "cell_type": "code",
   "execution_count": null,
   "metadata": {},
   "outputs": [],
   "source": [
    "# Getting back the objects:\n",
    "with open(PredictionName, 'rb') as f: \n",
    "    test_predicted_1D = pickle.load(f)\n",
    "print('Recovered!')\n",
    "test_labels = test_predicted_1D.reshape(50,-1)\n",
    "print(test_labels.shape)"
   ]
  },
  {
   "cell_type": "code",
   "execution_count": null,
   "metadata": {},
   "outputs": [],
   "source": [
    "IDX = 9\n",
    "patches_38x38 = test_labels[IDX].reshape(38,38)\n",
    "post_processed_patches = post_process_single(patches_38x38)\n",
    "\n",
    "post_processed_image = label_to_img(608, 608, 16, 16, post_processed_patches.reshape(38*38))\n",
    "\n",
    "predicted_image_IDX = VisualizePrediction(PredictionName, IDX, 608, PLOT= False)\n",
    "new_img = make_img_overlay(test_images[IDX], predicted_image_IDX)\n",
    "\n",
    "new_img2 = make_img_overlay(test_images[IDX], post_processed_image)\n",
    "\n",
    "plt.figure(figsize=[20,30])\n",
    "plt.subplot(1,2,1)\n",
    "plt.imshow(new_img)\n",
    "plt.subplot(1,2,2)\n",
    "plt.imshow(new_img2)"
   ]
  },
  {
   "cell_type": "markdown",
   "metadata": {},
   "source": [
    "# Post-process all the images, and then create submission"
   ]
  },
  {
   "cell_type": "code",
   "execution_count": null,
   "metadata": {},
   "outputs": [],
   "source": [
    "post_process_and_submit(PredictionName, 'submission_vgg_no_data_aug_processed_1812.csv')"
   ]
  },
  {
   "cell_type": "code",
   "execution_count": null,
   "metadata": {},
   "outputs": [],
   "source": []
  }
 ],
 "metadata": {
  "kernelspec": {
   "display_name": "Python 3",
   "language": "python",
   "name": "python3"
  },
  "language_info": {
   "codemirror_mode": {
    "name": "ipython",
    "version": 3
   },
   "file_extension": ".py",
   "mimetype": "text/x-python",
   "name": "python",
   "nbconvert_exporter": "python",
   "pygments_lexer": "ipython3",
   "version": "3.6.5"
  }
 },
 "nbformat": 4,
 "nbformat_minor": 2
}
