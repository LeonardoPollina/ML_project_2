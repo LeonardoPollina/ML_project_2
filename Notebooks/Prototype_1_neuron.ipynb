{
 "cells": [
  {
   "cell_type": "markdown",
   "metadata": {},
   "source": [
    "# Training example (1 final layer units)\n",
    "\n",
    "In this notebook, we illustrate the training routine applied to train a model with <b>1 neurons</b> in the final layer.\n"
   ]
  },
  {
   "cell_type": "code",
   "execution_count": 1,
   "metadata": {},
   "outputs": [
    {
     "name": "stderr",
     "output_type": "stream",
     "text": [
      "C:\\Users\\nicol\\Anaconda3\\lib\\site-packages\\h5py\\__init__.py:36: FutureWarning: Conversion of the second argument of issubdtype from `float` to `np.floating` is deprecated. In future, it will be treated as `np.float64 == np.dtype(float).type`.\n",
      "  from ._conv import register_converters as _register_converters\n",
      "Using TensorFlow backend.\n"
     ]
    }
   ],
   "source": [
    "import sys\n",
    "sys.path.insert(0,'../src/')\n",
    "sys.path.insert(0,'../src/models/')\n",
    "from training_and_prediction import *\n",
    "from utilities import *"
   ]
  },
  {
   "cell_type": "markdown",
   "metadata": {},
   "source": [
    "# Choose the model and print its informations\n",
    "\n",
    "You can choose also the root directory, the one with the data."
   ]
  },
  {
   "cell_type": "code",
   "execution_count": 2,
   "metadata": {},
   "outputs": [
    {
     "name": "stdout",
     "output_type": "stream",
     "text": [
      "Model attributes:\n",
      "\tpatch_size =  16\n",
      "\tinput_size =  20\n",
      "\tpad_size =  2\n",
      "\tpad_rotate_size =  16\n",
      "\tfinal_layer_units =  1\n",
      "\tpool_size =  (2, 2)\n",
      "\n",
      "Training parameters:\n",
      "\treg =  1e-05\n",
      "\tlearning_rate =  0.001\n",
      "\tepochs =  5\n",
      "\tbatch_size =  128\n",
      "\tsteps_per_epoch =  10\n",
      "\n",
      "Oher attributes:\n",
      "\tNameWeights =  protorype_1_neuron_Weights\n",
      "\tSubmissionName =  protorype_1_neuron_Submission.csv\n",
      "\tPredictionName =  protorype_1_neuron_prediction\n",
      "\n",
      " Keras model summary\n",
      "_________________________________________________________________\n",
      "Layer (type)                 Output Shape              Param #   \n",
      "=================================================================\n",
      "conv2d_1 (Conv2D)            (None, 20, 20, 3)         84        \n",
      "_________________________________________________________________\n",
      "flatten_1 (Flatten)          (None, 1200)              0         \n",
      "_________________________________________________________________\n",
      "dense_1 (Dense)              (None, 10)                12010     \n",
      "_________________________________________________________________\n",
      "dropout_1 (Dropout)          (None, 10)                0         \n",
      "_________________________________________________________________\n",
      "dense_2 (Dense)              (None, 1)                 11        \n",
      "=================================================================\n",
      "Total params: 12,105\n",
      "Trainable params: 12,105\n",
      "Non-trainable params: 0\n",
      "_________________________________________________________________\n"
     ]
    }
   ],
   "source": [
    "from model_PROTOTYPE_1_neuron import MODEL_CLASS\n",
    "MODEL = MODEL_CLASS()\n",
    "MODEL.summary()\n",
    "\n",
    "ROOT_DIR = '../Data/'"
   ]
  },
  {
   "cell_type": "markdown",
   "metadata": {},
   "source": [
    "# Training (80/20 train/validation)"
   ]
  },
  {
   "cell_type": "code",
   "execution_count": 3,
   "metadata": {
    "scrolled": true
   },
   "outputs": [
    {
     "name": "stdout",
     "output_type": "stream",
     "text": [
      "Loading 100 images\n",
      "Loading 100 groundtruth images\n",
      "Padding images using pad of:  16\n",
      "Shape of imgs:  (100, 432, 432, 3)\n",
      "Shape of gt_imgs:  (100, 432, 432, 3)\n"
     ]
    }
   ],
   "source": [
    "X, Y = LoadImages(MODEL.pad_rotate_size, root_dir = ROOT_DIR)"
   ]
  },
  {
   "cell_type": "code",
   "execution_count": 4,
   "metadata": {},
   "outputs": [
    {
     "name": "stdout",
     "output_type": "stream",
     "text": [
      "Training the model.\n",
      "Validation ratio:  0.8\n",
      "Training images shape:  (80, 432, 432, 3)\n",
      "Validation images shape:  (19, 432, 432, 3)\n",
      "Epochs: 5\n",
      "Batch_size: 128 \n",
      "Steps per epoch: 10\n",
      "Epoch 1/5\n",
      "10/10 [==============================] - 3s 272ms/step - loss: 12.0068 - acc: 0.2469 - f1_score: 0.3949 - val_loss: 11.9570 - val_acc: 0.2500 - val_f1_score: 0.3987\n",
      "Epoch 2/5\n",
      "10/10 [==============================] - 2s 207ms/step - loss: 11.2595 - acc: 0.2938 - f1_score: 0.4534 - val_loss: 12.3057 - val_acc: 0.2281 - val_f1_score: 0.3704\n",
      "Epoch 3/5\n",
      "10/10 [==============================] - 2s 222ms/step - loss: 11.6705 - acc: 0.2680 - f1_score: 0.4221 - val_loss: 11.8074 - val_acc: 0.2594 - val_f1_score: 0.4117\n",
      "Epoch 4/5\n",
      "10/10 [==============================] - 2s 211ms/step - loss: 11.6829 - acc: 0.2672 - f1_score: 0.4200 - val_loss: 11.5832 - val_acc: 0.2734 - val_f1_score: 0.4281\n",
      "Epoch 5/5\n",
      "10/10 [==============================] - 2s 222ms/step - loss: 11.9693 - acc: 0.2492 - f1_score: 0.3978 - val_loss: 12.2309 - val_acc: 0.2328 - val_f1_score: 0.3773\n",
      "Training done, weights saved in: protorype_1_neuron_Weights\n"
     ]
    }
   ],
   "source": [
    "model = train(X, Y, MODEL, validation_ratio = 0.8)"
   ]
  },
  {
   "cell_type": "code",
   "execution_count": 5,
   "metadata": {},
   "outputs": [
    {
     "name": "stdout",
     "output_type": "stream",
     "text": [
      "Loading test images\n",
      "Inputs for the test are ready. Shape:  (72200, 20, 20, 3)\n",
      "Load the weights of the model from:  protorype_1_neuron_Weights\n",
      "Predicting...\n",
      "Done!\n",
      "Generating submission and prediction (pickle) file...\n",
      "Submission saved in:  protorype_1_neuron_Submission.csv\n",
      "Prediction saved in  protorype_1_neuron_prediction\n"
     ]
    }
   ],
   "source": [
    "PredictAndSubmit(MODEL, MODEL.NameWeights, MODEL.SubmissionName, MODEL.PredictionName, root_dir = ROOT_DIR)"
   ]
  },
  {
   "cell_type": "markdown",
   "metadata": {},
   "source": [
    "# We can continue with the training in this way"
   ]
  },
  {
   "cell_type": "code",
   "execution_count": 6,
   "metadata": {},
   "outputs": [
    {
     "name": "stdout",
     "output_type": "stream",
     "text": [
      "Loading weights of the model from:  protorype_1_neuron_Weights\n",
      "Restarting training...\n",
      "Validation ratio:  0.8\n",
      "Training images shape:  (80, 432, 432, 3)\n",
      "Validation images shape:  (19, 432, 432, 3)\n",
      "Epochs: 5\n",
      "Batch_size: 128\n",
      "Steps per epoch: 10\n",
      "Epoch 1/3\n",
      "10/10 [==============================] - 4s 358ms/step - loss: 11.7576 - acc: 0.2625 - f1_score: 0.4144 - val_loss: 11.7825 - val_acc: 0.2609 - val_f1_score: 0.4126\n",
      "Epoch 2/3\n",
      "10/10 [==============================] - 3s 282ms/step - loss: 11.3964 - acc: 0.2852 - f1_score: 0.4427 - val_loss: 11.8821 - val_acc: 0.2547 - val_f1_score: 0.4043\n",
      "Epoch 3/3\n",
      "10/10 [==============================] - 3s 256ms/step - loss: 11.6455 - acc: 0.2695 - f1_score: 0.4244 - val_loss: 12.1312 - val_acc: 0.2391 - val_f1_score: 0.3847\n",
      "Training done, weights saved in: protorype_1_neuron_Weights_cont\n"
     ]
    }
   ],
   "source": [
    "nameOldWeights = MODEL.NameWeights\n",
    "nameNewWeights = MODEL.NameWeights + '_cont'\n",
    "model = ContinueTrain(X, Y, MODEL, nameOldWeights, nameNewWeights, validation_ratio = 0.8, epochs_cont = 3)"
   ]
  }
 ],
 "metadata": {
  "kernelspec": {
   "display_name": "Python 3",
   "language": "python",
   "name": "python3"
  },
  "language_info": {
   "codemirror_mode": {
    "name": "ipython",
    "version": 3
   },
   "file_extension": ".py",
   "mimetype": "text/x-python",
   "name": "python",
   "nbconvert_exporter": "python",
   "pygments_lexer": "ipython3",
   "version": "3.6.5"
  }
 },
 "nbformat": 4,
 "nbformat_minor": 2
}
