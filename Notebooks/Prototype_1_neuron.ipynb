{
 "cells": [
  {
   "cell_type": "markdown",
   "metadata": {},
   "source": [
    "# Training example (1 final layer units)\n",
    "\n",
    "In this notebook, we illustrate the training routine applied to train a model with <b>1 neurons</b> in the final layer.\n"
   ]
  },
  {
   "cell_type": "code",
   "execution_count": 1,
   "metadata": {},
   "outputs": [
    {
     "name": "stderr",
     "output_type": "stream",
     "text": [
      "C:\\Users\\nicol\\Anaconda3\\lib\\site-packages\\h5py\\__init__.py:36: FutureWarning: Conversion of the second argument of issubdtype from `float` to `np.floating` is deprecated. In future, it will be treated as `np.float64 == np.dtype(float).type`.\n",
      "  from ._conv import register_converters as _register_converters\n",
      "Using TensorFlow backend.\n"
     ]
    }
   ],
   "source": [
    "import sys\n",
    "sys.path.insert(0,'../src/')\n",
    "sys.path.insert(0,'../src/models/')\n",
    "from training_and_prediction import *\n",
    "from utilities import *"
   ]
  },
  {
   "cell_type": "markdown",
   "metadata": {},
   "source": [
    "# Choose the model and print its informations\n",
    "\n",
    "You can choose also the root directory, the one with the data."
   ]
  },
  {
   "cell_type": "code",
   "execution_count": 2,
   "metadata": {},
   "outputs": [
    {
     "name": "stdout",
     "output_type": "stream",
     "text": [
      "Main model attributes:\n",
      "\tpatch_size =  16\n",
      "\tinput_size =  20\n",
      "\tpad_size =  2\n",
      "\tpad_rotate_size =  16\n",
      "\tfinal_layer_units =  1\n",
      "\tpool_size =  (2, 2)\n",
      "\n",
      "Training parameters:\n",
      "\treg =  1e-05\n",
      "\tlearning_rate =  0.001\n",
      "\tepochs =  5\n",
      "\tbatch_size =  128\n",
      "\tsteps_per_epoch =  10\n",
      "\n",
      "Other attributes:\n",
      "\tNameWeights =  prototype_1_neuron_Weights\n",
      "\tSubmissionName =  prototype_1_neuron_Submission.csv\n",
      "\tPredictionName =  prototype_1_neuron_prediction\n",
      "\n",
      " Keras model summary\n",
      "_________________________________________________________________\n",
      "Layer (type)                 Output Shape              Param #   \n",
      "=================================================================\n",
      "conv2d_1 (Conv2D)            (None, 20, 20, 3)         84        \n",
      "_________________________________________________________________\n",
      "flatten_1 (Flatten)          (None, 1200)              0         \n",
      "_________________________________________________________________\n",
      "dense_1 (Dense)              (None, 10)                12010     \n",
      "_________________________________________________________________\n",
      "dropout_1 (Dropout)          (None, 10)                0         \n",
      "_________________________________________________________________\n",
      "dense_2 (Dense)              (None, 1)                 11        \n",
      "=================================================================\n",
      "Total params: 12,105\n",
      "Trainable params: 12,105\n",
      "Non-trainable params: 0\n",
      "_________________________________________________________________\n"
     ]
    }
   ],
   "source": [
    "from model_PROTOTYPE_1_neuron import MODEL_CLASS\n",
    "MODEL = MODEL_CLASS()\n",
    "MODEL.summary()\n",
    "\n",
    "ROOT_DIR = '../Data/'"
   ]
  },
  {
   "cell_type": "markdown",
   "metadata": {},
   "source": [
    "# Training (80/20 train/validation)"
   ]
  },
  {
   "cell_type": "code",
   "execution_count": 3,
   "metadata": {
    "scrolled": true
   },
   "outputs": [
    {
     "name": "stdout",
     "output_type": "stream",
     "text": [
      "Loading 100 images\n",
      "Loading 100 groundtruth images\n",
      "Shape of imgs:  (100, 400, 400, 3)\n",
      "Shape of gt_imgs:  (100, 400, 400)\n"
     ]
    }
   ],
   "source": [
    "X, Y = LoadImages(root_dir = ROOT_DIR)"
   ]
  },
  {
   "cell_type": "code",
   "execution_count": 4,
   "metadata": {},
   "outputs": [
    {
     "name": "stdout",
     "output_type": "stream",
     "text": [
      "Padding images using pad of:  16\n",
      "Training the model.\n",
      "Validation ratio:  0.8\n",
      "Training images shape:  (80, 432, 432, 3)\n",
      "Validation images shape:  (19, 432, 432, 3)\n",
      "Epochs: 5\n",
      "Batch_size: 128\n",
      "Steps per epoch: 10\n",
      "\n",
      "\n",
      "Epoch 1/5\n",
      "10/10 [==============================] - 5s 463ms/step - loss: 11.7079 - acc: 0.2656 - f1_score: 0.4189 - val_loss: 12.2808 - val_acc: 0.2297 - val_f1_score: 0.3727\n",
      "Epoch 2/5\n",
      "10/10 [==============================] - 4s 367ms/step - loss: 11.4089 - acc: 0.2844 - f1_score: 0.4408 - val_loss: 12.2808 - val_acc: 0.2297 - val_f1_score: 0.3721\n",
      "Epoch 3/5\n",
      "10/10 [==============================] - 4s 417ms/step - loss: 11.6331 - acc: 0.2703 - f1_score: 0.4241 - val_loss: 12.3804 - val_acc: 0.2234 - val_f1_score: 0.3640\n",
      "Epoch 4/5\n",
      "10/10 [==============================] - 4s 413ms/step - loss: 11.8946 - acc: 0.2539 - f1_score: 0.4037 - val_loss: 11.8821 - val_acc: 0.2547 - val_f1_score: 0.4047\n",
      "Epoch 5/5\n",
      "10/10 [==============================] - 4s 370ms/step - loss: 11.7451 - acc: 0.2633 - f1_score: 0.4162 - val_loss: 12.0814 - val_acc: 0.2422 - val_f1_score: 0.3895\n",
      "Training done, weights saved in: prototype_1_neuron_Weights\n"
     ]
    }
   ],
   "source": [
    "model = train(X, Y, MODEL, validation_ratio = 0.8)"
   ]
  },
  {
   "cell_type": "code",
   "execution_count": 5,
   "metadata": {},
   "outputs": [
    {
     "name": "stdout",
     "output_type": "stream",
     "text": [
      "Loading test images\n",
      "Inputs for the test are ready. Shape:  (72200, 20, 20, 3)\n",
      "Load the weights of the model from:  prototype_1_neuron_Weights\n",
      "Predicting...\n",
      "Done!\n",
      "Generating submission and prediction (pickle) file...\n",
      "Submission saved in:  prototype_1_neuron_Submission.csv\n",
      "Prediction saved in  prototype_1_neuron_prediction\n"
     ]
    }
   ],
   "source": [
    "PredictAndSubmit(MODEL, MODEL.NameWeights, MODEL.SubmissionName, MODEL.PredictionName, root_dir = ROOT_DIR)"
   ]
  },
  {
   "cell_type": "markdown",
   "metadata": {},
   "source": [
    "# We can continue with the training in this way"
   ]
  },
  {
   "cell_type": "code",
   "execution_count": 6,
   "metadata": {},
   "outputs": [
    {
     "name": "stdout",
     "output_type": "stream",
     "text": [
      "Padding images using pad of:  16\n",
      "Loading weights of the model from:  prototype_1_neuron_Weights\n",
      "Restarting training...\n",
      "Validation ratio:  0.8\n",
      "Training images shape:  (80, 432, 432, 3)\n",
      "Validation images shape:  (19, 432, 432, 3)\n",
      "Epochs: 5\n",
      "Batch_size: 128\n",
      "Steps per epoch: 10\n",
      "\n",
      "\n",
      "Epoch 1/3\n",
      "10/10 [==============================] - 5s 475ms/step - loss: 11.8074 - acc: 0.2594 - f1_score: 0.4110 - val_loss: 12.3056 - val_acc: 0.2281 - val_f1_score: 0.3699\n",
      "Epoch 2/3\n",
      "10/10 [==============================] - 4s 414ms/step - loss: 11.3839 - acc: 0.2859 - f1_score: 0.4437 - val_loss: 12.1561 - val_acc: 0.2375 - val_f1_score: 0.3835\n",
      "Epoch 3/3\n",
      "10/10 [==============================] - 4s 369ms/step - loss: 11.4213 - acc: 0.2836 - f1_score: 0.4417 - val_loss: 12.2059 - val_acc: 0.2344 - val_f1_score: 0.3789\n",
      "Training done, weights saved in: prototype_1_neuron_Weights_cont\n"
     ]
    }
   ],
   "source": [
    "nameOldWeights = MODEL.NameWeights\n",
    "nameNewWeights = MODEL.NameWeights + '_cont'\n",
    "model = ContinueTrain(X, Y, MODEL, nameOldWeights, nameNewWeights, validation_ratio = 0.8, epochs_cont = 3)"
   ]
  }
 ],
 "metadata": {
  "kernelspec": {
   "display_name": "Python 3",
   "language": "python",
   "name": "python3"
  },
  "language_info": {
   "codemirror_mode": {
    "name": "ipython",
    "version": 3
   },
   "file_extension": ".py",
   "mimetype": "text/x-python",
   "name": "python",
   "nbconvert_exporter": "python",
   "pygments_lexer": "ipython3",
   "version": "3.6.5"
  }
 },
 "nbformat": 4,
 "nbformat_minor": 2
}
