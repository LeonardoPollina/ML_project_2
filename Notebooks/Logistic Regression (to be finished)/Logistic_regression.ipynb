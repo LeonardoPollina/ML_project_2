{
 "cells": [
  {
   "cell_type": "code",
   "execution_count": 1,
   "metadata": {},
   "outputs": [
    {
     "name": "stderr",
     "output_type": "stream",
     "text": [
      "C:\\Users\\nicol\\Anaconda3\\lib\\site-packages\\h5py\\__init__.py:36: FutureWarning: Conversion of the second argument of issubdtype from `float` to `np.floating` is deprecated. In future, it will be treated as `np.float64 == np.dtype(float).type`.\n",
      "  from ._conv import register_converters as _register_converters\n",
      "Using TensorFlow backend.\n"
     ]
    }
   ],
   "source": [
    "import sys\n",
    "sys.path.insert(0,'../../src')\n",
    "sys.path.insert(0,'../../src/models')\n",
    "ROOT_DIR = '../../Data/'\n",
    "from utilities import * \n",
    "from logistic_utilities import *"
   ]
  },
  {
   "cell_type": "markdown",
   "metadata": {},
   "source": [
    "# Prepare the inputs for the logistic regression"
   ]
  },
  {
   "cell_type": "code",
   "execution_count": 2,
   "metadata": {},
   "outputs": [],
   "source": [
    "imgs, gt_imgs = LoadImages(0, root_dir = ROOT_DIR, verbose = 0)\n",
    "# Extract patches from input images\n",
    "patch_size = 16 # each patch is 16*16 pixels\n",
    "\n",
    "img_patches = [img_crop(imgs[i], patch_size, patch_size) for i in range(imgs.shape[0])]\n",
    "gt_patches = [img_crop(gt_imgs[i], patch_size, patch_size) for i in range(gt_imgs.shape[0])]\n",
    "\n",
    "# Linearize list of patches\n",
    "img_patches = np.asarray([img_patches[i][j] for i in range(len(img_patches)) for j in range(len(img_patches[i]))])\n",
    "gt_patches =  np.asarray([gt_patches[i][j] for i in range(len(gt_patches)) for j in range(len(gt_patches[i]))])\n",
    "\n",
    "# Get X and Y\n",
    "X = np.asarray([ extract_features(img_patches[i]) for i in range(len(img_patches))])\n",
    "Y = np.asarray([value_to_class(np.mean(gt_patches[i])) for i in range(len(gt_patches))])"
   ]
  },
  {
   "cell_type": "markdown",
   "metadata": {},
   "source": [
    "# Cross Validation"
   ]
  },
  {
   "cell_type": "code",
   "execution_count": 3,
   "metadata": {},
   "outputs": [
    {
     "name": "stdout",
     "output_type": "stream",
     "text": [
      "Grid search ====> 1/2 lambda starts...\n",
      "Grid search ====> Lambda = 1.00e-02, degree = 2, F1-score = 0.515\n",
      "Grid search ====> Lambda = 1.00e-02, degree = 3, F1-score = 0.520\n",
      "Grid search ====> 2/2 lambda starts...\n",
      "Grid search ====> Lambda = 1.00e-03, degree = 2, F1-score = 0.542\n",
      "Grid search ====> Lambda = 1.00e-03, degree = 3, F1-score = 0.551\n",
      "\n",
      "Grid search terminated.\n",
      "Best lambda:  1000\n",
      "Best degree:  3\n",
      "Max F1-score:  0.5509541029261236\n"
     ]
    }
   ],
   "source": [
    "degrees = np.array([2,3])\n",
    "lambdas = np.array([100,1000])\n",
    "best_lambda, best_degree, best_f1 = grid_search_hyperparam(Y,X,lambdas, degrees)\n"
   ]
  },
  {
   "cell_type": "code",
   "execution_count": 4,
   "metadata": {},
   "outputs": [
    {
     "data": {
      "text/plain": [
       "LogisticRegression(C=1000, class_weight='balanced', dual=False,\n",
       "          fit_intercept=True, intercept_scaling=1, max_iter=100,\n",
       "          multi_class='ovr', n_jobs=1, penalty='l2', random_state=None,\n",
       "          solver='liblinear', tol=0.0001, verbose=0, warm_start=False)"
      ]
     },
     "execution_count": 4,
     "metadata": {},
     "output_type": "execute_result"
    }
   ],
   "source": [
    "logreg = linear_model.LogisticRegression(C=best_lambda, class_weight=\"balanced\")\n",
    "poly = PolynomialFeatures(best_degree)\n",
    "X = poly.fit_transform(X)\n",
    "logreg.fit(X, Y)\n"
   ]
  },
  {
   "cell_type": "code",
   "execution_count": 5,
   "metadata": {},
   "outputs": [
    {
     "name": "stdout",
     "output_type": "stream",
     "text": [
      "Loading test images...\n",
      "Generating inputs from test images...\n",
      "Predicting...\n",
      "Submission generated in:  Logistic.csv\n"
     ]
    }
   ],
   "source": [
    "predict_and_submit_logistic(best_degree, logreg, 'Logistic.csv', root_dir = ROOT_DIR)"
   ]
  }
 ],
 "metadata": {
  "kernelspec": {
   "display_name": "Python 3",
   "language": "python",
   "name": "python3"
  },
  "language_info": {
   "codemirror_mode": {
    "name": "ipython",
    "version": 3
   },
   "file_extension": ".py",
   "mimetype": "text/x-python",
   "name": "python",
   "nbconvert_exporter": "python",
   "pygments_lexer": "ipython3",
   "version": "3.6.5"
  }
 },
 "nbformat": 4,
 "nbformat_minor": 1
}
