{
 "cells": [
  {
   "cell_type": "markdown",
   "metadata": {},
   "source": [
    "# Logistic regression\n",
    "In this notebook, we use grid search on 2 hyperparameters to train a logistic regressor, namely: degree of polynomial features expansion and regularization coefficient.\n",
    "\n",
    "### CONFIG: \n",
    "* `ROOT_DIR`: select the path of the Data folder. This folder contains the training images and the set images\n",
    "* `TO_TRAIN`: this flag, if activated, allows to search again the hyperparameters of the model. Otherwise, these parameters will be selected according to the result of our grid search.\n",
    "* `SubmissionName`: select the name of the file where you want to have the submission\n",
    "\n",
    "\n",
    "With this code, <b>F1-score</b> of 0.603 is obtained."
   ]
  },
  {
   "cell_type": "code",
   "execution_count": 1,
   "metadata": {},
   "outputs": [],
   "source": [
    "ROOT_DIR = '../../Data/'\n",
    "TO_TRAIN = False\n",
    "SubmissionName = 'Logistic.csv'"
   ]
  },
  {
   "cell_type": "markdown",
   "metadata": {},
   "source": [
    "# Import"
   ]
  },
  {
   "cell_type": "code",
   "execution_count": 2,
   "metadata": {},
   "outputs": [],
   "source": [
    "import sys\n",
    "sys.path.insert(0,'../../src')\n",
    "sys.path.insert(0,'../../src/models')\n",
    "\n",
    "from utilities import * \n",
    "from logistic_utilities import *"
   ]
  },
  {
   "cell_type": "markdown",
   "metadata": {},
   "source": [
    "# Prepare the inputs for the logistic regression"
   ]
  },
  {
   "cell_type": "code",
   "execution_count": 3,
   "metadata": {},
   "outputs": [],
   "source": [
    "# Load images\n",
    "imgs, gt_imgs = LoadImages(0, root_dir = ROOT_DIR, verbose = 0)\n",
    "\n",
    "# Extract patches from input images\n",
    "patch_size = 16\n",
    "img_patches = [img_crop(imgs[i], patch_size, patch_size) for i in range(imgs.shape[0])]\n",
    "gt_patches = [img_crop(gt_imgs[i], patch_size, patch_size) for i in range(gt_imgs.shape[0])]\n",
    "\n",
    "# Linearize list of patches\n",
    "img_patches = np.asarray([img_patches[i][j] for i in range(len(img_patches)) for j in range(len(img_patches[i]))])\n",
    "gt_patches =  np.asarray([gt_patches[i][j] for i in range(len(gt_patches)) for j in range(len(gt_patches[i]))])\n",
    "\n",
    "# Get X and Y\n",
    "X = np.asarray([ extract_features(img_patches[i]) for i in range(len(img_patches))])\n",
    "Y = np.asarray([value_to_class(np.mean(gt_patches[i])) for i in range(len(gt_patches))])"
   ]
  },
  {
   "cell_type": "markdown",
   "metadata": {},
   "source": [
    "# Cross Validation\n",
    "\n",
    "The original range of degrees and lambdas where bigger. Here to demonstrate the procedure we select a smaller set of lambdas and degrees. Moreover, we weren't able to reach a significantly better F1-score using more refined arrays of lambdas and more degrees, hence we moved to CNNs."
   ]
  },
  {
   "cell_type": "code",
   "execution_count": 4,
   "metadata": {},
   "outputs": [
    {
     "name": "stdout",
     "output_type": "stream",
     "text": [
      "Grid search ====> 1/5 lambda starts...\n",
      "Grid search ====> Lambda = 1.00e-05, degree = 2, F1-score = 0.578\n",
      "Grid search ====> Lambda = 1.00e-05, degree = 3, F1-score = 0.582\n",
      "Grid search ====> Lambda = 1.00e-05, degree = 4, F1-score = 0.583\n",
      "Grid search ====> Lambda = 1.00e-05, degree = 5, F1-score = 0.582\n",
      "Grid search ====> 2/5 lambda starts...\n",
      "Grid search ====> Lambda = 1.00e-06, degree = 2, F1-score = 0.580\n",
      "Grid search ====> Lambda = 1.00e-06, degree = 3, F1-score = 0.587\n",
      "Grid search ====> Lambda = 1.00e-06, degree = 4, F1-score = 0.587\n",
      "Grid search ====> Lambda = 1.00e-06, degree = 5, F1-score = 0.584\n",
      "Grid search ====> 3/5 lambda starts...\n",
      "Grid search ====> Lambda = 1.00e-07, degree = 2, F1-score = 0.582\n",
      "Grid search ====> Lambda = 1.00e-07, degree = 3, F1-score = 0.589\n",
      "Grid search ====> Lambda = 1.00e-07, degree = 4, F1-score = 0.588\n",
      "Grid search ====> Lambda = 1.00e-07, degree = 5, F1-score = 0.585\n",
      "Grid search ====> 4/5 lambda starts...\n",
      "Grid search ====> Lambda = 1.00e-08, degree = 2, F1-score = 0.582\n",
      "Grid search ====> Lambda = 1.00e-08, degree = 3, F1-score = 0.590\n",
      "Grid search ====> Lambda = 1.00e-08, degree = 4, F1-score = 0.589\n",
      "Grid search ====> Lambda = 1.00e-08, degree = 5, F1-score = 0.584\n",
      "Grid search ====> 5/5 lambda starts...\n",
      "Grid search ====> Lambda = 1.00e-09, degree = 2, F1-score = 0.582\n",
      "Grid search ====> Lambda = 1.00e-09, degree = 3, F1-score = 0.590\n",
      "Grid search ====> Lambda = 1.00e-09, degree = 4, F1-score = 0.588\n",
      "Grid search ====> Lambda = 1.00e-09, degree = 5, F1-score = 0.585\n",
      "\n",
      "Grid search terminated.\n",
      "Best lambda:  100000000.0\n",
      "Best degree:  3\n",
      "Max F1-score:  0.5903411579111377\n"
     ]
    }
   ],
   "source": [
    "degrees = np.array([2,3,4,5])\n",
    "lambdas = np.array([1e5,1e6,1e7,1e8,1e9])\n",
    "\n",
    "if TO_TRAIN:\n",
    "    best_lambda, best_degree, best_f1 = grid_search_hyperparam(Y,X,lambdas, degrees)\n",
    "else:\n",
    "    best_lambda, best_degree, best_f1 = 100000000.0 , 3 , 0.5903411579111377"
   ]
  },
  {
   "cell_type": "code",
   "execution_count": 5,
   "metadata": {},
   "outputs": [
    {
     "data": {
      "text/plain": [
       "LogisticRegression(C=100000000.0, class_weight='balanced', dual=False,\n",
       "          fit_intercept=True, intercept_scaling=1, max_iter=100,\n",
       "          multi_class='ovr', n_jobs=1, penalty='l2', random_state=None,\n",
       "          solver='liblinear', tol=0.0001, verbose=0, warm_start=False)"
      ]
     },
     "execution_count": 5,
     "metadata": {},
     "output_type": "execute_result"
    }
   ],
   "source": [
    "logreg = linear_model.LogisticRegression(C=best_lambda, class_weight=\"balanced\")\n",
    "poly = PolynomialFeatures(best_degree)\n",
    "X = poly.fit_transform(X)\n",
    "logreg.fit(X, Y)"
   ]
  },
  {
   "cell_type": "markdown",
   "metadata": {},
   "source": [
    "# Submission"
   ]
  },
  {
   "cell_type": "code",
   "execution_count": 6,
   "metadata": {},
   "outputs": [
    {
     "name": "stdout",
     "output_type": "stream",
     "text": [
      "Loading test images...\n",
      "Generating inputs from test images...\n",
      "Predicting...\n",
      "Submission saved in:  Logistic.csv\n"
     ]
    }
   ],
   "source": [
    "predict_and_submit_logistic(best_degree, logreg, SubmissionName, root_dir = ROOT_DIR)"
   ]
  }
 ],
 "metadata": {
  "kernelspec": {
   "display_name": "Python 3",
   "language": "python",
   "name": "python3"
  },
  "language_info": {
   "codemirror_mode": {
    "name": "ipython",
    "version": 3
   },
   "file_extension": ".py",
   "mimetype": "text/x-python",
   "name": "python",
   "nbconvert_exporter": "python",
   "pygments_lexer": "ipython3",
   "version": "3.6.5"
  }
 },
 "nbformat": 4,
 "nbformat_minor": 1
}
