{
 "cells": [
  {
   "cell_type": "code",
   "execution_count": 1,
   "metadata": {},
   "outputs": [],
   "source": [
    "import numpy as np"
   ]
  },
  {
   "cell_type": "code",
   "execution_count": 2,
   "metadata": {},
   "outputs": [
    {
     "name": "stdout",
     "output_type": "stream",
     "text": [
      "Predicted patches of size:  (10000,)\n",
      "Saved in  prova.pkl\n",
      "Recovered!\n"
     ]
    }
   ],
   "source": [
    "import pickle\n",
    "\n",
    "# Suppose that we create some patches\n",
    "predicted_patches = np.random.rand(10000)\n",
    "print('Predicted patches of size: ', predicted_patches.shape)\n",
    "\n",
    "\n",
    "# Choose a name for the objects that we are going to save\n",
    "name = 'prova.pkl'\n",
    "\n",
    "# Saving the objects:\n",
    "with open(name, 'wb') as f:\n",
    "    pickle.dump(predicted_patches, f)\n",
    "print('Saved in ', name)\n",
    "\n",
    "# Getting back the objects:\n",
    "with open(name, 'rb') as f: \n",
    "    recovered_patches = pickle.load(f)\n",
    "print('Recovered!')"
   ]
  },
  {
   "cell_type": "code",
   "execution_count": 3,
   "metadata": {},
   "outputs": [
    {
     "data": {
      "text/plain": [
       "0.0"
      ]
     },
     "execution_count": 3,
     "metadata": {},
     "output_type": "execute_result"
    }
   ],
   "source": [
    "(predicted_patches-recovered_patches).sum()"
   ]
  }
 ],
 "metadata": {
  "kernelspec": {
   "display_name": "Python 3",
   "language": "python",
   "name": "python3"
  },
  "language_info": {
   "codemirror_mode": {
    "name": "ipython",
    "version": 3
   },
   "file_extension": ".py",
   "mimetype": "text/x-python",
   "name": "python",
   "nbconvert_exporter": "python",
   "pygments_lexer": "ipython3",
   "version": "3.6.5"
  }
 },
 "nbformat": 4,
 "nbformat_minor": 2
}
