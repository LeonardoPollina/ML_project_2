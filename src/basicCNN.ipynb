{
 "cells": [
  {
   "cell_type": "code",
   "execution_count": 45,
   "metadata": {},
   "outputs": [],
   "source": [
    "import numpy as np\n",
    "import os\n",
    "import matplotlib.image as mpimg"
   ]
  },
  {
   "cell_type": "code",
   "execution_count": 46,
   "metadata": {},
   "outputs": [],
   "source": [
    "from keras.models import Sequential\n",
    "from keras.layers import Dense, Dropout, Activation, Flatten\n",
    "from keras.layers import Convolution2D, MaxPooling2D\n",
    "from keras.optimizers import Adam\n",
    "from keras.utils import np_utils\n",
    "from keras import backend as K\n",
    "from keras.regularizers import l2\n",
    "from keras.layers import LeakyReLU\n",
    "from keras.callbacks import ReduceLROnPlateau, EarlyStopping\n",
    "from keras.losses import binary_crossentropy"
   ]
  },
  {
   "cell_type": "code",
   "execution_count": 47,
   "metadata": {},
   "outputs": [],
   "source": [
    "# Helper functions\n",
    "\n",
    "def load_image(infilename):\n",
    "    data = mpimg.imread(infilename)\n",
    "    return data\n",
    "\n",
    "def img_float_to_uint8(img):\n",
    "    rimg = img - np.min(img)\n",
    "    rimg = (rimg / np.max(rimg) * 255).round().astype(np.uint8)\n",
    "    return rimg\n",
    "\n",
    "# Concatenate an image and its groundtruth\n",
    "def concatenate_images(img, gt_img):\n",
    "    nChannels = len(gt_img.shape)\n",
    "    w = gt_img.shape[0]\n",
    "    h = gt_img.shape[1]\n",
    "    if nChannels == 3:\n",
    "        cimg = np.concatenate((img, gt_img), axis=1)\n",
    "    else:\n",
    "        gt_img_3c = np.zeros((w, h, 3), dtype=np.uint8)\n",
    "        gt_img8 = img_float_to_uint8(gt_img)          \n",
    "        gt_img_3c[:,:,0] = gt_img8\n",
    "        gt_img_3c[:,:,1] = gt_img8\n",
    "        gt_img_3c[:,:,2] = gt_img8\n",
    "        img8 = img_float_to_uint8(img)\n",
    "        cimg = np.concatenate((img8, gt_img_3c), axis=1)\n",
    "    return cimg\n",
    "\n",
    "def img_crop(im, w, h):\n",
    "    list_patches = []\n",
    "    imgwidth = im.shape[0]\n",
    "    imgheight = im.shape[1]\n",
    "    is_2d = len(im.shape) < 3\n",
    "    for i in range(0,imgheight,h):\n",
    "        for j in range(0,imgwidth,w):\n",
    "            if is_2d:\n",
    "                im_patch = im[j:j+w, i:i+h]\n",
    "            else:\n",
    "                im_patch = im[j:j+w, i:i+h, :]\n",
    "            list_patches.append(im_patch)\n",
    "    return list_patches"
   ]
  },
  {
   "cell_type": "code",
   "execution_count": 48,
   "metadata": {},
   "outputs": [],
   "source": [
    "def pick_test_images():\n",
    "    test_imgs = []\n",
    "    for i in range(1, 51):\n",
    "        name = '../Data/test_set_images/test_'+str(i)+'/test_' + str(i) + '.png'\n",
    "        test_imgs.append(load_image(name))\n",
    "    return test_imgs\n",
    "        \n",
    "test = pick_test_images()"
   ]
  },
  {
   "cell_type": "code",
   "execution_count": 56,
   "metadata": {},
   "outputs": [],
   "source": [
    "def train(X, Y):\n",
    "        reg = 1e-6\n",
    "        pool_size = (2, 2)\n",
    "        nb_classes = 2\n",
    "        patch_size = 16\n",
    "\n",
    "        if K.image_dim_ordering() == 'th':\n",
    "            input_shape = (3, patch_size, patch_size)\n",
    "        else:\n",
    "            input_shape = (patch_size, patch_size, 3)\n",
    "    \n",
    "        model = Sequential()\n",
    "\n",
    "        model.add(Convolution2D(32, kernel_size=(3, 3), \n",
    "                                input_shape = ( patch_size, patch_size, 3), \n",
    "                                activation = 'relu',\n",
    "                                padding = 'SAME'))\n",
    "        model.add(Flatten())\n",
    "        model.add(Dense(units = 128, activation = 'relu'))\n",
    "        model.add(Dense(units = 2, activation = 'sigmoid'))\n",
    "        \n",
    "        print('Training set shape: ', X.shape) \n",
    "            \n",
    "        batch_size = 200\n",
    "        nb_classes = 2\n",
    "        nb_epoch = 10\n",
    "        steps_per_epoch = 10\n",
    "\n",
    "\n",
    "        opt = Adam(lr=0.001) # Adam optimizer with default initial learning rate\n",
    "\n",
    "        np.random.seed(3) # Ensure determinism\n",
    "        \n",
    "        def generate_minibatch():\n",
    "            \"\"\"\n",
    "            Procedure for real-time minibatch creation and image augmentation.\n",
    "            This runs in a parallel thread while the model is being trained.\n",
    "            \"\"\"\n",
    "            while 1:\n",
    "                # Generate one minibatch\n",
    "                X_batch = np.empty((batch_size, patch_size, patch_size, 3))\n",
    "                Y_batch = np.empty((batch_size, 2))\n",
    "                for i in range(batch_size):\n",
    "                    # Select a random image\n",
    "                    idx = np.random.choice(X.shape[0])\n",
    "                    X_batch[i] = X[idx]\n",
    "                    Y_batch[i] = Y[idx]\n",
    "                \n",
    "                if K.image_dim_ordering() == 'th':\n",
    "                    X_batch = np.rollaxis(X_batch, 3, 1)\n",
    "                    \n",
    "                yield (X_batch, Y_batch)\n",
    "\n",
    "        # This callback reduces the learning rate when the training accuracy does not improve any more\n",
    "        lr_callback = ReduceLROnPlateau(monitor='acc', factor=0.5, patience=5,\n",
    "                                        verbose=1, mode='auto', epsilon=0.0001, cooldown=0, min_lr=0)\n",
    "        \n",
    "        # Stops the training process upon convergence\n",
    "        stop_callback = EarlyStopping(monitor='acc', min_delta=0.0001, patience=11, verbose=1, mode='auto')\n",
    "        \n",
    "        model.compile(loss=binary_crossentropy,\n",
    "                      optimizer=opt,\n",
    "                      metrics=['accuracy'])\n",
    "\n",
    "        try:\n",
    "            model.fit_generator(generate_minibatch(),\n",
    "                            steps_per_epoch=steps_per_epoch,\n",
    "                            nb_epoch=nb_epoch,\n",
    "                            verbose=1,\n",
    "                            callbacks=[lr_callback, stop_callback])\n",
    "        except KeyboardInterrupt:\n",
    "            # Do not throw away the model in case the user stops the training process\n",
    "            pass\n",
    "\n",
    "        print('Training completed')\n",
    "        \n",
    "        model.save_weights('pesi')\n",
    "        \n",
    "        return model"
   ]
  },
  {
   "cell_type": "code",
   "execution_count": 57,
   "metadata": {},
   "outputs": [
    {
     "name": "stdout",
     "output_type": "stream",
     "text": [
      "Loading 100 images\n",
      "satImage_001.png\n",
      "Loading 100 images\n",
      "satImage_001.png\n",
      "(100, 400, 400, 3)\n"
     ]
    }
   ],
   "source": [
    "# Loaded a set of image\n",
    "\n",
    "root_dir = \"../Data/training/\"\n",
    "\n",
    "image_dir = root_dir + \"images/\"\n",
    "files = os.listdir(image_dir)\n",
    "n = len(files) # Load maximum 20 images\n",
    "print(\"Loading \" + str(n) + \" images\")\n",
    "imgs = [load_image(image_dir + files[i]) for i in range(n)]\n",
    "print(files[0])\n",
    "\n",
    "gt_dir = root_dir + \"groundtruth/\"\n",
    "print(\"Loading \" + str(n) + \" images\")\n",
    "gt_imgs = [load_image(gt_dir + files[i]) for i in range(n)]\n",
    "print(files[0])\n",
    "\n",
    "print(np.array(imgs).shape)"
   ]
  },
  {
   "cell_type": "code",
   "execution_count": 58,
   "metadata": {},
   "outputs": [
    {
     "name": "stdout",
     "output_type": "stream",
     "text": [
      "Computed 62500 features\n",
      "Feature dimension = 16\n",
      "Number of classes = 1\n",
      "Class 0: 46309 samples\n",
      "Class 1: 16191 samples\n"
     ]
    }
   ],
   "source": [
    "# Extract patches from input images\n",
    "patch_size = 16 # each patch is 16*16 pixels\n",
    "\n",
    "img_patches = [img_crop(imgs[i], patch_size, patch_size) for i in range(n)]\n",
    "gt_patches = [img_crop(gt_imgs[i], patch_size, patch_size) for i in range(n)]\n",
    "\n",
    "# Linearize list of patches\n",
    "X = np.asarray([img_patches[i][j] for i in range(len(img_patches)) for j in range(len(img_patches[i]))])\n",
    "gt_patches =  np.asarray([gt_patches[i][j] for i in range(len(gt_patches)) for j in range(len(gt_patches[i]))])\n",
    "# Compute features for each image patch\n",
    "foreground_threshold = 0.25 # percentage of pixels > 1 required to assign a foreground label to a patch\n",
    "\n",
    "def value_to_class(v):\n",
    "    df = np.sum(v)\n",
    "    if df > foreground_threshold:\n",
    "        return 1\n",
    "    else:\n",
    "        return 0\n",
    "    \n",
    "Y = np.asarray([value_to_class(np.mean(gt_patches[i])) for i in range(len(gt_patches))])\n",
    "\n",
    "# Print feature statistics\n",
    "\n",
    "print('Computed ' + str(X.shape[0]) + ' features')\n",
    "print('Feature dimension = ' + str(X.shape[1]))\n",
    "print('Number of classes = ' + str(np.max(Y)))  #TODO: fix, length(unique(Y)) \n",
    "\n",
    "Y0 = [i for i, j in enumerate(Y) if j == 0]\n",
    "Y1 = [i for i, j in enumerate(Y) if j == 1]\n",
    "print('Class 0: ' + str(len(Y0)) + ' samples')\n",
    "print('Class 1: ' + str(len(Y1)) + ' samples')"
   ]
  },
  {
   "cell_type": "code",
   "execution_count": 59,
   "metadata": {},
   "outputs": [
    {
     "name": "stdout",
     "output_type": "stream",
     "text": [
      "Training set shape:  (62500, 16, 16, 3)\n"
     ]
    },
    {
     "name": "stderr",
     "output_type": "stream",
     "text": [
      "C:\\Users\\nicol\\Anaconda3\\lib\\site-packages\\keras\\callbacks.py:1065: UserWarning: `epsilon` argument is deprecated and will be removed, use `min_delta` instead.\n",
      "  warnings.warn('`epsilon` argument is deprecated and '\n",
      "C:\\Users\\nicol\\Anaconda3\\lib\\site-packages\\ipykernel_launcher.py:70: UserWarning: The semantics of the Keras 2 argument `steps_per_epoch` is not the same as the Keras 1 argument `samples_per_epoch`. `steps_per_epoch` is the number of batches to draw from the generator at each epoch. Basically steps_per_epoch = samples_per_epoch/batch_size. Similarly `nb_val_samples`->`validation_steps` and `val_samples`->`steps` arguments have changed. Update your method calls accordingly.\n",
      "C:\\Users\\nicol\\Anaconda3\\lib\\site-packages\\ipykernel_launcher.py:70: UserWarning: Update your `fit_generator` call to the Keras 2 API: `fit_generator(<generator..., steps_per_epoch=10, verbose=1, callbacks=[<keras.ca..., epochs=10)`\n"
     ]
    },
    {
     "name": "stdout",
     "output_type": "stream",
     "text": [
      "Epoch 1/10\n",
      "10/10 [==============================] - 2s 243ms/step - loss: 0.5943 - acc: 0.7183\n",
      "Epoch 2/10\n",
      "10/10 [==============================] - 1s 105ms/step - loss: 0.5582 - acc: 0.7530\n",
      "Epoch 3/10\n",
      "10/10 [==============================] - 1s 111ms/step - loss: 0.5312 - acc: 0.7645\n",
      "Epoch 4/10\n",
      "10/10 [==============================] - 1s 110ms/step - loss: 0.5446 - acc: 0.7485\n",
      "Epoch 5/10\n",
      "10/10 [==============================] - 1s 112ms/step - loss: 0.5328 - acc: 0.7450\n",
      "Epoch 6/10\n",
      "10/10 [==============================] - 1s 109ms/step - loss: 0.5320 - acc: 0.7488\n",
      "Epoch 7/10\n",
      "10/10 [==============================] - 1s 110ms/step - loss: 0.5372 - acc: 0.7470\n",
      "Epoch 8/10\n",
      "10/10 [==============================] - 1s 108ms/step - loss: 0.5403 - acc: 0.7410\n",
      "\n",
      "Epoch 00008: ReduceLROnPlateau reducing learning rate to 0.0005000000237487257.\n",
      "Epoch 9/10\n",
      "10/10 [==============================] - 1s 117ms/step - loss: 0.5344 - acc: 0.7455\n",
      "Epoch 10/10\n",
      "10/10 [==============================] - 1s 120ms/step - loss: 0.5483 - acc: 0.7255\n",
      "Training completed\n"
     ]
    }
   ],
   "source": [
    "model = train(X,Y)"
   ]
  },
  {
   "cell_type": "code",
   "execution_count": 68,
   "metadata": {},
   "outputs": [
    {
     "name": "stdout",
     "output_type": "stream",
     "text": [
      "(50, 608, 608, 3)\n"
     ]
    }
   ],
   "source": [
    "test_images = pick_test_images()\n",
    "\n",
    "print(np.array(test_images).shape)\n",
    "\n",
    "n_test = len(test_images)\n",
    "\n",
    "test_patches = [img_crop(test_images[i], patch_size, patch_size) for i in range(n_test)]\n",
    "\n",
    "test_patches = np.asarray([test_patches[i][j] for i in range(len(test_patches)) for j in range(len(test_patches[i]))])"
   ]
  },
  {
   "cell_type": "code",
   "execution_count": 70,
   "metadata": {},
   "outputs": [
    {
     "data": {
      "text/plain": [
       "(72200,)"
      ]
     },
     "execution_count": 70,
     "metadata": {},
     "output_type": "execute_result"
    }
   ],
   "source": [
    "Z = model.predict(test_patches)\n",
    "labels = (Z[:,0] < Z[:,1]) * 1\n",
    "labels.shape"
   ]
  },
  {
   "cell_type": "code",
   "execution_count": 71,
   "metadata": {},
   "outputs": [],
   "source": [
    "def label_to_img(imgwidth, imgheight, w, h, labels):\n",
    "    im = np.zeros([imgwidth, imgheight])\n",
    "    idx = 0\n",
    "    for i in range(0,imgheight,h):\n",
    "        for j in range(0,imgwidth,w):\n",
    "            im[j:j+w, i:i+h] = labels[idx]\n",
    "            idx = idx + 1\n",
    "    return im\n",
    "\n",
    "def MY_mask_to_submission_strings(mask1D, fileNumber):\n",
    "    img_number = fileNumber\n",
    "    patch_size = 16\n",
    "    test_size = 608\n",
    "    im = label_to_img(test_size, test_size, patch_size, patch_size, mask1D)\n",
    "    for j in range(0, im.shape[1], patch_size):\n",
    "        for i in range(0, im.shape[0], patch_size):\n",
    "            patch = im[i:i + patch_size, j:j + patch_size]\n",
    "            label = patch_to_label(patch)\n",
    "            yield(\"{:03d}_{}_{},{}\".format(img_number+1, j, i, label))\n",
    "\n",
    "\n",
    "def MY_masks_to_submission(submission_filename, masks1D):\n",
    "    \"\"\"Converts images into a submission file\"\"\"\n",
    "    with open(submission_filename, 'w') as f:\n",
    "        f.write('id,prediction\\n')\n",
    "        for idx,fn in enumerate(masks1D):\n",
    "            f.writelines('{}\\n'.format(s) for s in MY_mask_to_submission_strings(fn,idx))\n",
    "            \n",
    "foreground_threshold = 0.25 # percentage of pixels > 1 required to assign a foreground label to a patch\n",
    "\n",
    "# assign a label to a patch\n",
    "def patch_to_label(patch):\n",
    "    df = np.mean(patch)\n",
    "    if df > foreground_threshold:\n",
    "        return 1\n",
    "    else:\n",
    "        return 0"
   ]
  },
  {
   "cell_type": "code",
   "execution_count": 72,
   "metadata": {},
   "outputs": [
    {
     "name": "stdout",
     "output_type": "stream",
     "text": [
      "(50, 1444)\n"
     ]
    }
   ],
   "source": [
    "labels = labels.reshape(50,-1)\n",
    "print(labels.shape)\n"
   ]
  },
  {
   "cell_type": "code",
   "execution_count": 74,
   "metadata": {},
   "outputs": [],
   "source": [
    "MY_masks_to_submission('dummy_submission.csv', labels)"
   ]
  }
 ],
 "metadata": {
  "anaconda-cloud": {},
  "kernelspec": {
   "display_name": "Python 3",
   "language": "python",
   "name": "python3"
  },
  "language_info": {
   "codemirror_mode": {
    "name": "ipython",
    "version": 3
   },
   "file_extension": ".py",
   "mimetype": "text/x-python",
   "name": "python",
   "nbconvert_exporter": "python",
   "pygments_lexer": "ipython3",
   "version": "3.6.5"
  }
 },
 "nbformat": 4,
 "nbformat_minor": 1
}
