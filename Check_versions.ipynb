{
 "cells": [
  {
   "cell_type": "code",
   "execution_count": 10,
   "metadata": {},
   "outputs": [
    {
     "name": "stdout",
     "output_type": "stream",
     "text": [
      "1.12.0\n",
      "1.14.3\n",
      "0.19.1\n",
      "['1.0', '1.1', '1.2', '1.3', '2.0', '3.0', '4.0']\n",
      "1.1.0\n",
      "2.2.2\n",
      "2.2.4\n"
     ]
    },
    {
     "name": "stderr",
     "output_type": "stream",
     "text": [
      "Using TensorFlow backend.\n"
     ]
    }
   ],
   "source": [
    "\n",
    "import numpy as np; print('Numpy: ',np.__version__)\n",
    "import scipy as sp; print('Scipy: ', sp.__version__)\n",
    "import sklearn as sk; print('Sklearn: ',sk.__version__)\n",
    "import keras; print('Keras: ',keras.__version__)\n",
    "import tensorflow as tf; print(TensorFlowtf.__version__)"
   ]
  }
 ],
 "metadata": {
  "kernelspec": {
   "display_name": "Python 3",
   "language": "python",
   "name": "python3"
  },
  "language_info": {
   "codemirror_mode": {
    "name": "ipython",
    "version": 3
   },
   "file_extension": ".py",
   "mimetype": "text/x-python",
   "name": "python",
   "nbconvert_exporter": "python",
   "pygments_lexer": "ipython3",
   "version": "3.6.5"
  }
 },
 "nbformat": 4,
 "nbformat_minor": 2
}
